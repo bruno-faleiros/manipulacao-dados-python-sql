{
 "cells": [
  {
   "cell_type": "markdown",
   "metadata": {},
   "source": [
    "# Otimização de Dados de Pacientes com Câncer de Mama.\n",
    "\n",
    "### Bruno Faleiros - Estudante de Análise e Desenvolvimento de Sistemas \n",
    "\n",
    "##### Email - brunofaleiros97@gmail.com\n",
    "\n",
    "##### Linkedin - https://www.linkedin.com/in/brunofaleiros/"
   ]
  },
  {
   "cell_type": "markdown",
   "metadata": {},
   "source": [
    "## Objetivo"
   ]
  },
  {
   "cell_type": "markdown",
   "metadata": {},
   "source": [
    "Ao longo dos meus estudos no universo dos dados, reconheci a importância de ser orientado por dados e desenvolver a **habilidade de manipular e extrair insights por meio das informações**. "
   ]
  },
  {
   "cell_type": "markdown",
   "metadata": {},
   "source": [
    "Neste notebook, procuro entender melhor os dados através da **bilbioteca Pandas**. As mudanças no conjunto de dados serão feitas posteriormente usando Linguagem SQL dentro do Jupyter Notebook. "
   ]
  },
  {
   "cell_type": "markdown",
   "metadata": {},
   "source": [
    "## Pacotes utilizados neste Notebook\n",
    "1. **Pandas:** Biblioteca para manipulação de dados tabulares.\n",
    "2. **SQLite:** Biblioteca para usar a linguagem SQL diretamente no Jupyter Notebook."
   ]
  },
  {
   "cell_type": "markdown",
   "metadata": {},
   "source": [
    "## Verificando a versão do Python"
   ]
  },
  {
   "cell_type": "code",
   "execution_count": 1,
   "metadata": {},
   "outputs": [
    {
     "name": "stdout",
     "output_type": "stream",
     "text": [
      "Versão da Linguagem Python: 3.11.5\n"
     ]
    }
   ],
   "source": [
    "from platform import python_version\n",
    "print(f\"Versão da Linguagem Python: {python_version()}\")"
   ]
  },
  {
   "cell_type": "markdown",
   "metadata": {},
   "source": [
    "## Sobre os Dados \n",
    "\n",
    "**Dataset:** https://archive.ics.uci.edu/dataset/14/breast+cancer\n",
    "\n",
    "Para este projeto, utilizarei um conjunto de dados sobre câncer de mama, disponível gratuitamente no **UCI Machine Learning Repository.**\n",
    "\n",
    "Este é um dos três domínios fornecidos pelo Instituto de Oncologia que tem sido frequentemente abordado na literatura de aprendizado de máquina."
   ]
  },
  {
   "cell_type": "markdown",
   "metadata": {},
   "source": [
    "### Carregamento dos dados para dataframe"
   ]
  },
  {
   "cell_type": "code",
   "execution_count": 2,
   "metadata": {},
   "outputs": [],
   "source": [
    "# Imports\n",
    "import pandas as pd"
   ]
  },
  {
   "cell_type": "code",
   "execution_count": 3,
   "metadata": {},
   "outputs": [
    {
     "data": {
      "text/html": [
       "<div>\n",
       "<style scoped>\n",
       "    .dataframe tbody tr th:only-of-type {\n",
       "        vertical-align: middle;\n",
       "    }\n",
       "\n",
       "    .dataframe tbody tr th {\n",
       "        vertical-align: top;\n",
       "    }\n",
       "\n",
       "    .dataframe thead th {\n",
       "        text-align: right;\n",
       "    }\n",
       "</style>\n",
       "<table border=\"1\" class=\"dataframe\">\n",
       "  <thead>\n",
       "    <tr style=\"text-align: right;\">\n",
       "      <th></th>\n",
       "      <th>classe</th>\n",
       "      <th>idade</th>\n",
       "      <th>menopausa</th>\n",
       "      <th>tamanho_tumor</th>\n",
       "      <th>inv_nodes</th>\n",
       "      <th>node_caps</th>\n",
       "      <th>deg_malig</th>\n",
       "      <th>seio</th>\n",
       "      <th>quadrante</th>\n",
       "      <th>irradiando</th>\n",
       "    </tr>\n",
       "  </thead>\n",
       "  <tbody>\n",
       "    <tr>\n",
       "      <th>0</th>\n",
       "      <td>no-recurrence-events</td>\n",
       "      <td>30-39</td>\n",
       "      <td>premeno</td>\n",
       "      <td>30-34</td>\n",
       "      <td>0-2</td>\n",
       "      <td>no</td>\n",
       "      <td>3</td>\n",
       "      <td>left</td>\n",
       "      <td>left_low</td>\n",
       "      <td>no</td>\n",
       "    </tr>\n",
       "    <tr>\n",
       "      <th>1</th>\n",
       "      <td>no-recurrence-events</td>\n",
       "      <td>40-49</td>\n",
       "      <td>premeno</td>\n",
       "      <td>20-24</td>\n",
       "      <td>0-2</td>\n",
       "      <td>no</td>\n",
       "      <td>2</td>\n",
       "      <td>right</td>\n",
       "      <td>right_up</td>\n",
       "      <td>no</td>\n",
       "    </tr>\n",
       "    <tr>\n",
       "      <th>2</th>\n",
       "      <td>no-recurrence-events</td>\n",
       "      <td>40-49</td>\n",
       "      <td>premeno</td>\n",
       "      <td>20-24</td>\n",
       "      <td>0-2</td>\n",
       "      <td>no</td>\n",
       "      <td>2</td>\n",
       "      <td>left</td>\n",
       "      <td>left_low</td>\n",
       "      <td>no</td>\n",
       "    </tr>\n",
       "    <tr>\n",
       "      <th>3</th>\n",
       "      <td>no-recurrence-events</td>\n",
       "      <td>60-69</td>\n",
       "      <td>ge40</td>\n",
       "      <td>15-19</td>\n",
       "      <td>0-2</td>\n",
       "      <td>no</td>\n",
       "      <td>2</td>\n",
       "      <td>right</td>\n",
       "      <td>left_up</td>\n",
       "      <td>no</td>\n",
       "    </tr>\n",
       "    <tr>\n",
       "      <th>4</th>\n",
       "      <td>no-recurrence-events</td>\n",
       "      <td>40-49</td>\n",
       "      <td>premeno</td>\n",
       "      <td>0-4</td>\n",
       "      <td>0-2</td>\n",
       "      <td>no</td>\n",
       "      <td>2</td>\n",
       "      <td>right</td>\n",
       "      <td>right_low</td>\n",
       "      <td>no</td>\n",
       "    </tr>\n",
       "    <tr>\n",
       "      <th>...</th>\n",
       "      <td>...</td>\n",
       "      <td>...</td>\n",
       "      <td>...</td>\n",
       "      <td>...</td>\n",
       "      <td>...</td>\n",
       "      <td>...</td>\n",
       "      <td>...</td>\n",
       "      <td>...</td>\n",
       "      <td>...</td>\n",
       "      <td>...</td>\n",
       "    </tr>\n",
       "    <tr>\n",
       "      <th>281</th>\n",
       "      <td>recurrence-events</td>\n",
       "      <td>30-39</td>\n",
       "      <td>premeno</td>\n",
       "      <td>30-34</td>\n",
       "      <td>0-2</td>\n",
       "      <td>no</td>\n",
       "      <td>2</td>\n",
       "      <td>left</td>\n",
       "      <td>left_up</td>\n",
       "      <td>no</td>\n",
       "    </tr>\n",
       "    <tr>\n",
       "      <th>282</th>\n",
       "      <td>recurrence-events</td>\n",
       "      <td>30-39</td>\n",
       "      <td>premeno</td>\n",
       "      <td>20-24</td>\n",
       "      <td>0-2</td>\n",
       "      <td>no</td>\n",
       "      <td>3</td>\n",
       "      <td>left</td>\n",
       "      <td>left_up</td>\n",
       "      <td>yes</td>\n",
       "    </tr>\n",
       "    <tr>\n",
       "      <th>283</th>\n",
       "      <td>recurrence-events</td>\n",
       "      <td>60-69</td>\n",
       "      <td>ge40</td>\n",
       "      <td>20-24</td>\n",
       "      <td>0-2</td>\n",
       "      <td>no</td>\n",
       "      <td>1</td>\n",
       "      <td>right</td>\n",
       "      <td>left_up</td>\n",
       "      <td>no</td>\n",
       "    </tr>\n",
       "    <tr>\n",
       "      <th>284</th>\n",
       "      <td>recurrence-events</td>\n",
       "      <td>40-49</td>\n",
       "      <td>ge40</td>\n",
       "      <td>30-34</td>\n",
       "      <td>3-5</td>\n",
       "      <td>no</td>\n",
       "      <td>3</td>\n",
       "      <td>left</td>\n",
       "      <td>left_low</td>\n",
       "      <td>no</td>\n",
       "    </tr>\n",
       "    <tr>\n",
       "      <th>285</th>\n",
       "      <td>recurrence-events</td>\n",
       "      <td>50-59</td>\n",
       "      <td>ge40</td>\n",
       "      <td>30-34</td>\n",
       "      <td>3-5</td>\n",
       "      <td>no</td>\n",
       "      <td>3</td>\n",
       "      <td>left</td>\n",
       "      <td>left_low</td>\n",
       "      <td>no</td>\n",
       "    </tr>\n",
       "  </tbody>\n",
       "</table>\n",
       "<p>286 rows × 10 columns</p>\n",
       "</div>"
      ],
      "text/plain": [
       "                   classe  idade menopausa tamanho_tumor inv_nodes node_caps  \\\n",
       "0    no-recurrence-events  30-39   premeno         30-34       0-2        no   \n",
       "1    no-recurrence-events  40-49   premeno         20-24       0-2        no   \n",
       "2    no-recurrence-events  40-49   premeno         20-24       0-2        no   \n",
       "3    no-recurrence-events  60-69      ge40         15-19       0-2        no   \n",
       "4    no-recurrence-events  40-49   premeno           0-4       0-2        no   \n",
       "..                    ...    ...       ...           ...       ...       ...   \n",
       "281     recurrence-events  30-39   premeno         30-34       0-2        no   \n",
       "282     recurrence-events  30-39   premeno         20-24       0-2        no   \n",
       "283     recurrence-events  60-69      ge40         20-24       0-2        no   \n",
       "284     recurrence-events  40-49      ge40         30-34       3-5        no   \n",
       "285     recurrence-events  50-59      ge40         30-34       3-5        no   \n",
       "\n",
       "     deg_malig   seio  quadrante irradiando  \n",
       "0            3   left   left_low         no  \n",
       "1            2  right   right_up         no  \n",
       "2            2   left   left_low         no  \n",
       "3            2  right    left_up         no  \n",
       "4            2  right  right_low         no  \n",
       "..         ...    ...        ...        ...  \n",
       "281          2   left    left_up         no  \n",
       "282          3   left    left_up        yes  \n",
       "283          1  right    left_up         no  \n",
       "284          3   left   left_low         no  \n",
       "285          3   left   left_low         no  \n",
       "\n",
       "[286 rows x 10 columns]"
      ]
     },
     "execution_count": 3,
     "metadata": {},
     "output_type": "execute_result"
    }
   ],
   "source": [
    "tb_dados = pd.read_csv(\"dados/breast-cancer.csv\")\n",
    "tb_dados"
   ]
  },
  {
   "cell_type": "markdown",
   "metadata": {},
   "source": [
    "### Dicionário dos dados \n",
    "- classe: Evento recorrente ou não recorrente.\n",
    "- idade: Informações sobre a faixa etária.\n",
    "- menopause: Informações sobre a menopausa.\n",
    "- tamanho_tumor: Informações sobre o tamanho do tumor.\n",
    "- inv_nodes: Informações sobre os nódulos relacionados ao câncer de mama.\n",
    "- node_caps: Informações sobre os nódulos relacionados ao câncer de mama.\n",
    "- deg_malig: Informações sobre o grau de malignidade do câncer de mama.\n",
    "- seio: Informações sobre se foi o seio direito ou esquerdo.\n",
    "- quadrante: Informações sobre a região do seio.\n",
    "- irradiando: Informações sobre se já foi irradiado ou não."
   ]
  },
  {
   "cell_type": "markdown",
   "metadata": {},
   "source": [
    "### Exploração inicial do Dataset\n",
    "\n",
    "A função .head() exibe as 5 primeiras linhas do conjunto de dados/tabela/Data Frame.\n",
    "\n",
    "Isso auxilia no primeiro entendimento de como os dados estão no conjunto de dados.\n",
    "- Para acessar as 5 últimas linhas, o comando **.tail()**\n",
    "- Para acessar os 10 primeiros registros **.head(10)**"
   ]
  },
  {
   "cell_type": "code",
   "execution_count": 4,
   "metadata": {},
   "outputs": [
    {
     "data": {
      "text/html": [
       "<div>\n",
       "<style scoped>\n",
       "    .dataframe tbody tr th:only-of-type {\n",
       "        vertical-align: middle;\n",
       "    }\n",
       "\n",
       "    .dataframe tbody tr th {\n",
       "        vertical-align: top;\n",
       "    }\n",
       "\n",
       "    .dataframe thead th {\n",
       "        text-align: right;\n",
       "    }\n",
       "</style>\n",
       "<table border=\"1\" class=\"dataframe\">\n",
       "  <thead>\n",
       "    <tr style=\"text-align: right;\">\n",
       "      <th></th>\n",
       "      <th>classe</th>\n",
       "      <th>idade</th>\n",
       "      <th>menopausa</th>\n",
       "      <th>tamanho_tumor</th>\n",
       "      <th>inv_nodes</th>\n",
       "      <th>node_caps</th>\n",
       "      <th>deg_malig</th>\n",
       "      <th>seio</th>\n",
       "      <th>quadrante</th>\n",
       "      <th>irradiando</th>\n",
       "    </tr>\n",
       "  </thead>\n",
       "  <tbody>\n",
       "    <tr>\n",
       "      <th>0</th>\n",
       "      <td>no-recurrence-events</td>\n",
       "      <td>30-39</td>\n",
       "      <td>premeno</td>\n",
       "      <td>30-34</td>\n",
       "      <td>0-2</td>\n",
       "      <td>no</td>\n",
       "      <td>3</td>\n",
       "      <td>left</td>\n",
       "      <td>left_low</td>\n",
       "      <td>no</td>\n",
       "    </tr>\n",
       "    <tr>\n",
       "      <th>1</th>\n",
       "      <td>no-recurrence-events</td>\n",
       "      <td>40-49</td>\n",
       "      <td>premeno</td>\n",
       "      <td>20-24</td>\n",
       "      <td>0-2</td>\n",
       "      <td>no</td>\n",
       "      <td>2</td>\n",
       "      <td>right</td>\n",
       "      <td>right_up</td>\n",
       "      <td>no</td>\n",
       "    </tr>\n",
       "    <tr>\n",
       "      <th>2</th>\n",
       "      <td>no-recurrence-events</td>\n",
       "      <td>40-49</td>\n",
       "      <td>premeno</td>\n",
       "      <td>20-24</td>\n",
       "      <td>0-2</td>\n",
       "      <td>no</td>\n",
       "      <td>2</td>\n",
       "      <td>left</td>\n",
       "      <td>left_low</td>\n",
       "      <td>no</td>\n",
       "    </tr>\n",
       "    <tr>\n",
       "      <th>3</th>\n",
       "      <td>no-recurrence-events</td>\n",
       "      <td>60-69</td>\n",
       "      <td>ge40</td>\n",
       "      <td>15-19</td>\n",
       "      <td>0-2</td>\n",
       "      <td>no</td>\n",
       "      <td>2</td>\n",
       "      <td>right</td>\n",
       "      <td>left_up</td>\n",
       "      <td>no</td>\n",
       "    </tr>\n",
       "    <tr>\n",
       "      <th>4</th>\n",
       "      <td>no-recurrence-events</td>\n",
       "      <td>40-49</td>\n",
       "      <td>premeno</td>\n",
       "      <td>0-4</td>\n",
       "      <td>0-2</td>\n",
       "      <td>no</td>\n",
       "      <td>2</td>\n",
       "      <td>right</td>\n",
       "      <td>right_low</td>\n",
       "      <td>no</td>\n",
       "    </tr>\n",
       "  </tbody>\n",
       "</table>\n",
       "</div>"
      ],
      "text/plain": [
       "                 classe  idade menopausa tamanho_tumor inv_nodes node_caps  \\\n",
       "0  no-recurrence-events  30-39   premeno         30-34       0-2        no   \n",
       "1  no-recurrence-events  40-49   premeno         20-24       0-2        no   \n",
       "2  no-recurrence-events  40-49   premeno         20-24       0-2        no   \n",
       "3  no-recurrence-events  60-69      ge40         15-19       0-2        no   \n",
       "4  no-recurrence-events  40-49   premeno           0-4       0-2        no   \n",
       "\n",
       "   deg_malig   seio  quadrante irradiando  \n",
       "0          3   left   left_low         no  \n",
       "1          2  right   right_up         no  \n",
       "2          2   left   left_low         no  \n",
       "3          2  right    left_up         no  \n",
       "4          2  right  right_low         no  "
      ]
     },
     "execution_count": 4,
     "metadata": {},
     "output_type": "execute_result"
    }
   ],
   "source": [
    "tb_dados.head()"
   ]
  },
  {
   "cell_type": "code",
   "execution_count": 5,
   "metadata": {},
   "outputs": [
    {
     "data": {
      "text/html": [
       "<div>\n",
       "<style scoped>\n",
       "    .dataframe tbody tr th:only-of-type {\n",
       "        vertical-align: middle;\n",
       "    }\n",
       "\n",
       "    .dataframe tbody tr th {\n",
       "        vertical-align: top;\n",
       "    }\n",
       "\n",
       "    .dataframe thead th {\n",
       "        text-align: right;\n",
       "    }\n",
       "</style>\n",
       "<table border=\"1\" class=\"dataframe\">\n",
       "  <thead>\n",
       "    <tr style=\"text-align: right;\">\n",
       "      <th></th>\n",
       "      <th>classe</th>\n",
       "      <th>idade</th>\n",
       "      <th>menopausa</th>\n",
       "      <th>tamanho_tumor</th>\n",
       "      <th>inv_nodes</th>\n",
       "      <th>node_caps</th>\n",
       "      <th>deg_malig</th>\n",
       "      <th>seio</th>\n",
       "      <th>quadrante</th>\n",
       "      <th>irradiando</th>\n",
       "    </tr>\n",
       "  </thead>\n",
       "  <tbody>\n",
       "    <tr>\n",
       "      <th>281</th>\n",
       "      <td>recurrence-events</td>\n",
       "      <td>30-39</td>\n",
       "      <td>premeno</td>\n",
       "      <td>30-34</td>\n",
       "      <td>0-2</td>\n",
       "      <td>no</td>\n",
       "      <td>2</td>\n",
       "      <td>left</td>\n",
       "      <td>left_up</td>\n",
       "      <td>no</td>\n",
       "    </tr>\n",
       "    <tr>\n",
       "      <th>282</th>\n",
       "      <td>recurrence-events</td>\n",
       "      <td>30-39</td>\n",
       "      <td>premeno</td>\n",
       "      <td>20-24</td>\n",
       "      <td>0-2</td>\n",
       "      <td>no</td>\n",
       "      <td>3</td>\n",
       "      <td>left</td>\n",
       "      <td>left_up</td>\n",
       "      <td>yes</td>\n",
       "    </tr>\n",
       "    <tr>\n",
       "      <th>283</th>\n",
       "      <td>recurrence-events</td>\n",
       "      <td>60-69</td>\n",
       "      <td>ge40</td>\n",
       "      <td>20-24</td>\n",
       "      <td>0-2</td>\n",
       "      <td>no</td>\n",
       "      <td>1</td>\n",
       "      <td>right</td>\n",
       "      <td>left_up</td>\n",
       "      <td>no</td>\n",
       "    </tr>\n",
       "    <tr>\n",
       "      <th>284</th>\n",
       "      <td>recurrence-events</td>\n",
       "      <td>40-49</td>\n",
       "      <td>ge40</td>\n",
       "      <td>30-34</td>\n",
       "      <td>3-5</td>\n",
       "      <td>no</td>\n",
       "      <td>3</td>\n",
       "      <td>left</td>\n",
       "      <td>left_low</td>\n",
       "      <td>no</td>\n",
       "    </tr>\n",
       "    <tr>\n",
       "      <th>285</th>\n",
       "      <td>recurrence-events</td>\n",
       "      <td>50-59</td>\n",
       "      <td>ge40</td>\n",
       "      <td>30-34</td>\n",
       "      <td>3-5</td>\n",
       "      <td>no</td>\n",
       "      <td>3</td>\n",
       "      <td>left</td>\n",
       "      <td>left_low</td>\n",
       "      <td>no</td>\n",
       "    </tr>\n",
       "  </tbody>\n",
       "</table>\n",
       "</div>"
      ],
      "text/plain": [
       "                classe  idade menopausa tamanho_tumor inv_nodes node_caps  \\\n",
       "281  recurrence-events  30-39   premeno         30-34       0-2        no   \n",
       "282  recurrence-events  30-39   premeno         20-24       0-2        no   \n",
       "283  recurrence-events  60-69      ge40         20-24       0-2        no   \n",
       "284  recurrence-events  40-49      ge40         30-34       3-5        no   \n",
       "285  recurrence-events  50-59      ge40         30-34       3-5        no   \n",
       "\n",
       "     deg_malig   seio quadrante irradiando  \n",
       "281          2   left   left_up         no  \n",
       "282          3   left   left_up        yes  \n",
       "283          1  right   left_up         no  \n",
       "284          3   left  left_low         no  \n",
       "285          3   left  left_low         no  "
      ]
     },
     "execution_count": 5,
     "metadata": {},
     "output_type": "execute_result"
    }
   ],
   "source": [
    "tb_dados.tail()"
   ]
  },
  {
   "cell_type": "markdown",
   "metadata": {},
   "source": [
    "A função .info() fornece informações sobre o conjunto de dados, incluindo:\n",
    "\n",
    "- Número total de registros.\n",
    "- Contagem de valores não nulos por coluna.\n",
    "- Tipo de dado em cada coluna."
   ]
  },
  {
   "cell_type": "code",
   "execution_count": 6,
   "metadata": {},
   "outputs": [
    {
     "name": "stdout",
     "output_type": "stream",
     "text": [
      "<class 'pandas.core.frame.DataFrame'>\n",
      "RangeIndex: 286 entries, 0 to 285\n",
      "Data columns (total 10 columns):\n",
      " #   Column         Non-Null Count  Dtype \n",
      "---  ------         --------------  ----- \n",
      " 0   classe         286 non-null    object\n",
      " 1   idade          286 non-null    object\n",
      " 2   menopausa      286 non-null    object\n",
      " 3   tamanho_tumor  286 non-null    object\n",
      " 4   inv_nodes      286 non-null    object\n",
      " 5   node_caps      286 non-null    object\n",
      " 6   deg_malig      286 non-null    int64 \n",
      " 7   seio           286 non-null    object\n",
      " 8   quadrante      286 non-null    object\n",
      " 9   irradiando     286 non-null    object\n",
      "dtypes: int64(1), object(9)\n",
      "memory usage: 22.5+ KB\n"
     ]
    }
   ],
   "source": [
    "tb_dados.info()"
   ]
  },
  {
   "cell_type": "markdown",
   "metadata": {},
   "source": [
    "### Insights\n",
    "\n",
    "O conjunto de dados contém: \n",
    "\n",
    "- 286 registros, com o index 285 registros\n",
    "- 10 colunas\n",
    "- Em primeiro momento, não há dados nulos nas colunas.\n",
    "\n",
    "É um conjunto de dados pequeno; no entanto, é excelente para realizar modificações utilizando categorização, binarização e codificação por meio da linguagem SQL."
   ]
  },
  {
   "cell_type": "markdown",
   "metadata": {},
   "source": [
    "### Instalando o pacote para manipulação SQL"
   ]
  },
  {
   "cell_type": "code",
   "execution_count": 7,
   "metadata": {},
   "outputs": [],
   "source": [
    "!pip install -q ipython-sql"
   ]
  },
  {
   "cell_type": "code",
   "execution_count": 8,
   "metadata": {},
   "outputs": [],
   "source": [
    "# Importando o SQLite\n",
    "import sqlite3"
   ]
  },
  {
   "cell_type": "code",
   "execution_count": 9,
   "metadata": {},
   "outputs": [],
   "source": [
    "# Criando a conexão a um banco de dados SQLite\n",
    "conex = sqlite3.connect('database/dbproejto1_cancer_de_mama.db')"
   ]
  },
  {
   "cell_type": "code",
   "execution_count": 10,
   "metadata": {},
   "outputs": [
    {
     "data": {
      "text/plain": [
       "286"
      ]
     },
     "execution_count": 10,
     "metadata": {},
     "output_type": "execute_result"
    }
   ],
   "source": [
    "# Copiando a conexão para dentro do banco de dados como uma tabela \n",
    "tb_dados.to_sql('dados1', conex)"
   ]
  },
  {
   "cell_type": "code",
   "execution_count": 11,
   "metadata": {},
   "outputs": [],
   "source": [
    "# Carregando a extensão SQL\n",
    "%load_ext sql"
   ]
  },
  {
   "cell_type": "code",
   "execution_count": 12,
   "metadata": {},
   "outputs": [],
   "source": [
    "# Definindo o banco de dados que será usado \n",
    "%sql sqlite:///database/dbproejto1_cancer_de_mama.db"
   ]
  },
  {
   "cell_type": "markdown",
   "metadata": {},
   "source": [
    "Como é um conjunto de dados pequeno, optei por usar a linguagem SQL no próprio Jupyter Notebook. "
   ]
  },
  {
   "cell_type": "code",
   "execution_count": 13,
   "metadata": {},
   "outputs": [
    {
     "name": "stdout",
     "output_type": "stream",
     "text": [
      " * sqlite:///database/dbproejto1_cancer_de_mama.db\n",
      "Done.\n"
     ]
    },
    {
     "data": {
      "text/html": [
       "<table>\n",
       "    <thead>\n",
       "        <tr>\n",
       "            <th>contagem_linhas</th>\n",
       "        </tr>\n",
       "    </thead>\n",
       "    <tbody>\n",
       "        <tr>\n",
       "            <td>286</td>\n",
       "        </tr>\n",
       "    </tbody>\n",
       "</table>"
      ],
      "text/plain": [
       "[(286,)]"
      ]
     },
     "execution_count": 13,
     "metadata": {},
     "output_type": "execute_result"
    }
   ],
   "source": [
    "%%sql\n",
    "\n",
    "SELECT \n",
    "    COUNT(*) AS contagem_linhas \n",
    "FROM \n",
    "    dados1"
   ]
  },
  {
   "cell_type": "code",
   "execution_count": 14,
   "metadata": {},
   "outputs": [
    {
     "name": "stdout",
     "output_type": "stream",
     "text": [
      " * sqlite:///database/dbproejto1_cancer_de_mama.db\n",
      "Done.\n"
     ]
    },
    {
     "data": {
      "text/html": [
       "<table>\n",
       "    <thead>\n",
       "        <tr>\n",
       "            <th>index</th>\n",
       "            <th>classe</th>\n",
       "            <th>idade</th>\n",
       "            <th>menopausa</th>\n",
       "            <th>tamanho_tumor</th>\n",
       "            <th>inv_nodes</th>\n",
       "            <th>node_caps</th>\n",
       "            <th>deg_malig</th>\n",
       "            <th>seio</th>\n",
       "            <th>quadrante</th>\n",
       "            <th>irradiando</th>\n",
       "        </tr>\n",
       "    </thead>\n",
       "    <tbody>\n",
       "        <tr>\n",
       "            <td>0</td>\n",
       "            <td>no-recurrence-events</td>\n",
       "            <td>30-39</td>\n",
       "            <td>premeno</td>\n",
       "            <td>30-34</td>\n",
       "            <td>0-2</td>\n",
       "            <td>no</td>\n",
       "            <td>3</td>\n",
       "            <td>left</td>\n",
       "            <td>left_low</td>\n",
       "            <td>no</td>\n",
       "        </tr>\n",
       "        <tr>\n",
       "            <td>1</td>\n",
       "            <td>no-recurrence-events</td>\n",
       "            <td>40-49</td>\n",
       "            <td>premeno</td>\n",
       "            <td>20-24</td>\n",
       "            <td>0-2</td>\n",
       "            <td>no</td>\n",
       "            <td>2</td>\n",
       "            <td>right</td>\n",
       "            <td>right_up</td>\n",
       "            <td>no</td>\n",
       "        </tr>\n",
       "        <tr>\n",
       "            <td>2</td>\n",
       "            <td>no-recurrence-events</td>\n",
       "            <td>40-49</td>\n",
       "            <td>premeno</td>\n",
       "            <td>20-24</td>\n",
       "            <td>0-2</td>\n",
       "            <td>no</td>\n",
       "            <td>2</td>\n",
       "            <td>left</td>\n",
       "            <td>left_low</td>\n",
       "            <td>no</td>\n",
       "        </tr>\n",
       "        <tr>\n",
       "            <td>3</td>\n",
       "            <td>no-recurrence-events</td>\n",
       "            <td>60-69</td>\n",
       "            <td>ge40</td>\n",
       "            <td>15-19</td>\n",
       "            <td>0-2</td>\n",
       "            <td>no</td>\n",
       "            <td>2</td>\n",
       "            <td>right</td>\n",
       "            <td>left_up</td>\n",
       "            <td>no</td>\n",
       "        </tr>\n",
       "        <tr>\n",
       "            <td>4</td>\n",
       "            <td>no-recurrence-events</td>\n",
       "            <td>40-49</td>\n",
       "            <td>premeno</td>\n",
       "            <td>0-4</td>\n",
       "            <td>0-2</td>\n",
       "            <td>no</td>\n",
       "            <td>2</td>\n",
       "            <td>right</td>\n",
       "            <td>right_low</td>\n",
       "            <td>no</td>\n",
       "        </tr>\n",
       "        <tr>\n",
       "            <td>5</td>\n",
       "            <td>no-recurrence-events</td>\n",
       "            <td>60-69</td>\n",
       "            <td>ge40</td>\n",
       "            <td>15-19</td>\n",
       "            <td>0-2</td>\n",
       "            <td>no</td>\n",
       "            <td>2</td>\n",
       "            <td>left</td>\n",
       "            <td>left_low</td>\n",
       "            <td>no</td>\n",
       "        </tr>\n",
       "        <tr>\n",
       "            <td>6</td>\n",
       "            <td>no-recurrence-events</td>\n",
       "            <td>50-59</td>\n",
       "            <td>premeno</td>\n",
       "            <td>25-29</td>\n",
       "            <td>0-2</td>\n",
       "            <td>no</td>\n",
       "            <td>2</td>\n",
       "            <td>left</td>\n",
       "            <td>left_low</td>\n",
       "            <td>no</td>\n",
       "        </tr>\n",
       "        <tr>\n",
       "            <td>7</td>\n",
       "            <td>no-recurrence-events</td>\n",
       "            <td>60-69</td>\n",
       "            <td>ge40</td>\n",
       "            <td>20-24</td>\n",
       "            <td>0-2</td>\n",
       "            <td>no</td>\n",
       "            <td>1</td>\n",
       "            <td>left</td>\n",
       "            <td>left_low</td>\n",
       "            <td>no</td>\n",
       "        </tr>\n",
       "        <tr>\n",
       "            <td>8</td>\n",
       "            <td>no-recurrence-events</td>\n",
       "            <td>40-49</td>\n",
       "            <td>premeno</td>\n",
       "            <td>50-54</td>\n",
       "            <td>0-2</td>\n",
       "            <td>no</td>\n",
       "            <td>2</td>\n",
       "            <td>left</td>\n",
       "            <td>left_low</td>\n",
       "            <td>no</td>\n",
       "        </tr>\n",
       "        <tr>\n",
       "            <td>9</td>\n",
       "            <td>no-recurrence-events</td>\n",
       "            <td>40-49</td>\n",
       "            <td>premeno</td>\n",
       "            <td>20-24</td>\n",
       "            <td>0-2</td>\n",
       "            <td>no</td>\n",
       "            <td>2</td>\n",
       "            <td>right</td>\n",
       "            <td>left_up</td>\n",
       "            <td>no</td>\n",
       "        </tr>\n",
       "    </tbody>\n",
       "</table>"
      ],
      "text/plain": [
       "[(0, 'no-recurrence-events', '30-39', 'premeno', '30-34', '0-2', 'no', 3, 'left', 'left_low', 'no'),\n",
       " (1, 'no-recurrence-events', '40-49', 'premeno', '20-24', '0-2', 'no', 2, 'right', 'right_up', 'no'),\n",
       " (2, 'no-recurrence-events', '40-49', 'premeno', '20-24', '0-2', 'no', 2, 'left', 'left_low', 'no'),\n",
       " (3, 'no-recurrence-events', '60-69', 'ge40', '15-19', '0-2', 'no', 2, 'right', 'left_up', 'no'),\n",
       " (4, 'no-recurrence-events', '40-49', 'premeno', '0-4', '0-2', 'no', 2, 'right', 'right_low', 'no'),\n",
       " (5, 'no-recurrence-events', '60-69', 'ge40', '15-19', '0-2', 'no', 2, 'left', 'left_low', 'no'),\n",
       " (6, 'no-recurrence-events', '50-59', 'premeno', '25-29', '0-2', 'no', 2, 'left', 'left_low', 'no'),\n",
       " (7, 'no-recurrence-events', '60-69', 'ge40', '20-24', '0-2', 'no', 1, 'left', 'left_low', 'no'),\n",
       " (8, 'no-recurrence-events', '40-49', 'premeno', '50-54', '0-2', 'no', 2, 'left', 'left_low', 'no'),\n",
       " (9, 'no-recurrence-events', '40-49', 'premeno', '20-24', '0-2', 'no', 2, 'right', 'left_up', 'no')]"
      ]
     },
     "execution_count": 14,
     "metadata": {},
     "output_type": "execute_result"
    }
   ],
   "source": [
    "%%sql\n",
    "\n",
    "SELECT * FROM dados1\n",
    "LIMIT 10"
   ]
  },
  {
   "cell_type": "markdown",
   "metadata": {},
   "source": [
    "Verifiquei que em algumas colunas podem ser feitas algumas modificações, tais como Categorização, Codificação e Binzarização.\n",
    "\n",
    "1. Binarização da coluna **\"classe\"**\n",
    "2. Categorização da coluna **\"tamanho_tumor\"**\n",
    "3. Label Encoding da coluna **menopausa**\n",
    "3. Categorização da coluna **\"node_caps\"**\n",
    "4. Categorização da coluna **\"seio\"**\n",
    "5. Label Encoding da coluna **\"quadrante\"**\n",
    "6. Binarização da coluna **\"Irradiando\"**"
   ]
  },
  {
   "cell_type": "markdown",
   "metadata": {},
   "source": [
    "Verificando cada coluna para garantir que não haja valores nulos usando o método **DISTINCT** "
   ]
  },
  {
   "cell_type": "code",
   "execution_count": 15,
   "metadata": {},
   "outputs": [
    {
     "name": "stdout",
     "output_type": "stream",
     "text": [
      " * sqlite:///database/dbproejto1_cancer_de_mama.db\n",
      "Done.\n"
     ]
    },
    {
     "data": {
      "text/html": [
       "<table>\n",
       "    <thead>\n",
       "        <tr>\n",
       "            <th>classe</th>\n",
       "        </tr>\n",
       "    </thead>\n",
       "    <tbody>\n",
       "        <tr>\n",
       "            <td>no-recurrence-events</td>\n",
       "        </tr>\n",
       "        <tr>\n",
       "            <td>recurrence-events</td>\n",
       "        </tr>\n",
       "    </tbody>\n",
       "</table>"
      ],
      "text/plain": [
       "[('no-recurrence-events',), ('recurrence-events',)]"
      ]
     },
     "execution_count": 15,
     "metadata": {},
     "output_type": "execute_result"
    }
   ],
   "source": [
    "%%sql\n",
    "SELECT DISTINCT classe FROM dados1"
   ]
  },
  {
   "cell_type": "code",
   "execution_count": 16,
   "metadata": {},
   "outputs": [
    {
     "name": "stdout",
     "output_type": "stream",
     "text": [
      " * sqlite:///database/dbproejto1_cancer_de_mama.db\n",
      "Done.\n"
     ]
    },
    {
     "data": {
      "text/html": [
       "<table>\n",
       "    <thead>\n",
       "        <tr>\n",
       "            <th>tamanho_tumor</th>\n",
       "        </tr>\n",
       "    </thead>\n",
       "    <tbody>\n",
       "        <tr>\n",
       "            <td>30-34</td>\n",
       "        </tr>\n",
       "        <tr>\n",
       "            <td>20-24</td>\n",
       "        </tr>\n",
       "        <tr>\n",
       "            <td>15-19</td>\n",
       "        </tr>\n",
       "        <tr>\n",
       "            <td>0-4</td>\n",
       "        </tr>\n",
       "        <tr>\n",
       "            <td>25-29</td>\n",
       "        </tr>\n",
       "        <tr>\n",
       "            <td>50-54</td>\n",
       "        </tr>\n",
       "        <tr>\n",
       "            <td>10-14</td>\n",
       "        </tr>\n",
       "        <tr>\n",
       "            <td>40-44</td>\n",
       "        </tr>\n",
       "        <tr>\n",
       "            <td>35-39</td>\n",
       "        </tr>\n",
       "        <tr>\n",
       "            <td>5-9</td>\n",
       "        </tr>\n",
       "        <tr>\n",
       "            <td>45-49</td>\n",
       "        </tr>\n",
       "    </tbody>\n",
       "</table>"
      ],
      "text/plain": [
       "[('30-34',),\n",
       " ('20-24',),\n",
       " ('15-19',),\n",
       " ('0-4',),\n",
       " ('25-29',),\n",
       " ('50-54',),\n",
       " ('10-14',),\n",
       " ('40-44',),\n",
       " ('35-39',),\n",
       " ('5-9',),\n",
       " ('45-49',)]"
      ]
     },
     "execution_count": 16,
     "metadata": {},
     "output_type": "execute_result"
    }
   ],
   "source": [
    "%%sql\n",
    "SELECT DISTINCT tamanho_tumor FROM dados1"
   ]
  },
  {
   "cell_type": "code",
   "execution_count": 17,
   "metadata": {},
   "outputs": [
    {
     "name": "stdout",
     "output_type": "stream",
     "text": [
      " * sqlite:///database/dbproejto1_cancer_de_mama.db\n",
      "Done.\n"
     ]
    },
    {
     "data": {
      "text/html": [
       "<table>\n",
       "    <thead>\n",
       "        <tr>\n",
       "            <th>menopausa</th>\n",
       "        </tr>\n",
       "    </thead>\n",
       "    <tbody>\n",
       "        <tr>\n",
       "            <td>premeno</td>\n",
       "        </tr>\n",
       "        <tr>\n",
       "            <td>ge40</td>\n",
       "        </tr>\n",
       "        <tr>\n",
       "            <td>lt40</td>\n",
       "        </tr>\n",
       "    </tbody>\n",
       "</table>"
      ],
      "text/plain": [
       "[('premeno',), ('ge40',), ('lt40',)]"
      ]
     },
     "execution_count": 17,
     "metadata": {},
     "output_type": "execute_result"
    }
   ],
   "source": [
    "%%sql\n",
    "SELECT DISTINCT menopausa FROM dados1"
   ]
  },
  {
   "cell_type": "code",
   "execution_count": 18,
   "metadata": {},
   "outputs": [
    {
     "name": "stdout",
     "output_type": "stream",
     "text": [
      " * sqlite:///database/dbproejto1_cancer_de_mama.db\n",
      "Done.\n"
     ]
    },
    {
     "data": {
      "text/html": [
       "<table>\n",
       "    <thead>\n",
       "        <tr>\n",
       "            <th>node_caps</th>\n",
       "        </tr>\n",
       "    </thead>\n",
       "    <tbody>\n",
       "        <tr>\n",
       "            <td>no</td>\n",
       "        </tr>\n",
       "        <tr>\n",
       "            <td>yes</td>\n",
       "        </tr>\n",
       "        <tr>\n",
       "            <td>?</td>\n",
       "        </tr>\n",
       "    </tbody>\n",
       "</table>"
      ],
      "text/plain": [
       "[('no',), ('yes',), ('?',)]"
      ]
     },
     "execution_count": 18,
     "metadata": {},
     "output_type": "execute_result"
    }
   ],
   "source": [
    "%%sql\n",
    "SELECT DISTINCT node_caps FROM dados1"
   ]
  },
  {
   "cell_type": "markdown",
   "metadata": {},
   "source": [
    "### Insight \n",
    "- Foi identificado um valor nulo na coluna node_caps. Tratarei essa situação posteriormente utilizando a função **CASE**."
   ]
  },
  {
   "cell_type": "code",
   "execution_count": 19,
   "metadata": {},
   "outputs": [
    {
     "name": "stdout",
     "output_type": "stream",
     "text": [
      " * sqlite:///database/dbproejto1_cancer_de_mama.db\n",
      "Done.\n"
     ]
    },
    {
     "data": {
      "text/html": [
       "<table>\n",
       "    <thead>\n",
       "        <tr>\n",
       "            <th>seio</th>\n",
       "        </tr>\n",
       "    </thead>\n",
       "    <tbody>\n",
       "        <tr>\n",
       "            <td>left</td>\n",
       "        </tr>\n",
       "        <tr>\n",
       "            <td>right</td>\n",
       "        </tr>\n",
       "    </tbody>\n",
       "</table>"
      ],
      "text/plain": [
       "[('left',), ('right',)]"
      ]
     },
     "execution_count": 19,
     "metadata": {},
     "output_type": "execute_result"
    }
   ],
   "source": [
    "%%sql\n",
    "SELECT DISTINCT seio FROM dados1"
   ]
  },
  {
   "cell_type": "code",
   "execution_count": 20,
   "metadata": {},
   "outputs": [
    {
     "name": "stdout",
     "output_type": "stream",
     "text": [
      " * sqlite:///database/dbproejto1_cancer_de_mama.db\n",
      "Done.\n"
     ]
    },
    {
     "data": {
      "text/html": [
       "<table>\n",
       "    <thead>\n",
       "        <tr>\n",
       "            <th>quadrante</th>\n",
       "        </tr>\n",
       "    </thead>\n",
       "    <tbody>\n",
       "        <tr>\n",
       "            <td>left_low</td>\n",
       "        </tr>\n",
       "        <tr>\n",
       "            <td>right_up</td>\n",
       "        </tr>\n",
       "        <tr>\n",
       "            <td>left_up</td>\n",
       "        </tr>\n",
       "        <tr>\n",
       "            <td>right_low</td>\n",
       "        </tr>\n",
       "        <tr>\n",
       "            <td>central</td>\n",
       "        </tr>\n",
       "        <tr>\n",
       "            <td>?</td>\n",
       "        </tr>\n",
       "    </tbody>\n",
       "</table>"
      ],
      "text/plain": [
       "[('left_low',),\n",
       " ('right_up',),\n",
       " ('left_up',),\n",
       " ('right_low',),\n",
       " ('central',),\n",
       " ('?',)]"
      ]
     },
     "execution_count": 20,
     "metadata": {},
     "output_type": "execute_result"
    }
   ],
   "source": [
    "%%sql\n",
    "SELECT DISTINCT quadrante FROM dados1"
   ]
  },
  {
   "cell_type": "markdown",
   "metadata": {},
   "source": [
    "### Insight \n",
    "- Foi identificado um valor nulo na coluna quadrante. Tratarei essa situação posteriormente utilizando a função **CASE**."
   ]
  },
  {
   "cell_type": "code",
   "execution_count": 21,
   "metadata": {},
   "outputs": [
    {
     "name": "stdout",
     "output_type": "stream",
     "text": [
      " * sqlite:///database/dbproejto1_cancer_de_mama.db\n",
      "Done.\n"
     ]
    },
    {
     "data": {
      "text/html": [
       "<table>\n",
       "    <thead>\n",
       "        <tr>\n",
       "            <th>irradiando</th>\n",
       "        </tr>\n",
       "    </thead>\n",
       "    <tbody>\n",
       "        <tr>\n",
       "            <td>no</td>\n",
       "        </tr>\n",
       "        <tr>\n",
       "            <td>yes</td>\n",
       "        </tr>\n",
       "    </tbody>\n",
       "</table>"
      ],
      "text/plain": [
       "[('no',), ('yes',)]"
      ]
     },
     "execution_count": 21,
     "metadata": {},
     "output_type": "execute_result"
    }
   ],
   "source": [
    "%%sql\n",
    "SELECT DISTINCT irradiando FROM dados1"
   ]
  },
  {
   "cell_type": "markdown",
   "metadata": {},
   "source": [
    "### Query com todas as transformações"
   ]
  },
  {
   "attachments": {
    "Query%20-%201.png": {
     "image/png": "[encoded data removed]"
    }
   },
   "cell_type": "markdown",
   "metadata": {},
   "source": [
    "![Query%20-%201.png](attachment:Query%20-%201.png)"
   ]
  },
  {
   "attachments": {
    "Resultado%20-%20Query%201.png": {
     "image/png": "[encoded data removed]"
    }
   },
   "cell_type": "markdown",
   "metadata": {},
   "source": [
    "![Resultado%20-%20Query%201.png](attachment:Resultado%20-%20Query%201.png)"
   ]
  },
  {
   "cell_type": "markdown",
   "metadata": {},
   "source": [
    "### Criando uma nova tabela "
   ]
  },
  {
   "attachments": {
    "Query%20-%202.png": {
     "image/png": "[encoded data removed]"
    }
   },
   "cell_type": "markdown",
   "metadata": {},
   "source": [
    "![Query%20-%202.png](attachment:Query%20-%202.png)"
   ]
  },
  {
   "attachments": {
    "Resultado%20-%20Query%202.png": {
     "image/png": "[encoded data removed]"
    }
   },
   "cell_type": "markdown",
   "metadata": {},
   "source": [
    "![Resultado%20-%20Query%202.png](attachment:Resultado%20-%20Query%202.png)"
   ]
  },
  {
   "cell_type": "code",
   "execution_count": 24,
   "metadata": {},
   "outputs": [
    {
     "name": "stdout",
     "output_type": "stream",
     "text": [
      " * sqlite:///database/dbproejto1_cancer_de_mama.db\n",
      "Done.\n"
     ]
    },
    {
     "data": {
      "text/html": [
       "<table>\n",
       "    <thead>\n",
       "        <tr>\n",
       "            <th>classe</th>\n",
       "            <th>idade</th>\n",
       "            <th>menopausa</th>\n",
       "            <th>tamanho_tumor</th>\n",
       "            <th>inv_nodes</th>\n",
       "            <th>node_caps</th>\n",
       "            <th>deg_malig</th>\n",
       "            <th>seio</th>\n",
       "            <th>quadrante</th>\n",
       "            <th>irradiando</th>\n",
       "        </tr>\n",
       "    </thead>\n",
       "    <tbody>\n",
       "        <tr>\n",
       "            <td>0</td>\n",
       "            <td>30-39</td>\n",
       "            <td>1</td>\n",
       "            <td>Grande</td>\n",
       "            <td>0-2</td>\n",
       "            <td>0</td>\n",
       "            <td>3</td>\n",
       "            <td>E</td>\n",
       "            <td>1</td>\n",
       "            <td>0</td>\n",
       "        </tr>\n",
       "        <tr>\n",
       "            <td>0</td>\n",
       "            <td>40-49</td>\n",
       "            <td>1</td>\n",
       "            <td>Medio</td>\n",
       "            <td>0-2</td>\n",
       "            <td>0</td>\n",
       "            <td>2</td>\n",
       "            <td>D</td>\n",
       "            <td>2</td>\n",
       "            <td>0</td>\n",
       "        </tr>\n",
       "        <tr>\n",
       "            <td>0</td>\n",
       "            <td>40-49</td>\n",
       "            <td>1</td>\n",
       "            <td>Medio</td>\n",
       "            <td>0-2</td>\n",
       "            <td>0</td>\n",
       "            <td>2</td>\n",
       "            <td>E</td>\n",
       "            <td>1</td>\n",
       "            <td>0</td>\n",
       "        </tr>\n",
       "        <tr>\n",
       "            <td>0</td>\n",
       "            <td>60-69</td>\n",
       "            <td>2</td>\n",
       "            <td>Pequeno</td>\n",
       "            <td>0-2</td>\n",
       "            <td>0</td>\n",
       "            <td>2</td>\n",
       "            <td>D</td>\n",
       "            <td>3</td>\n",
       "            <td>0</td>\n",
       "        </tr>\n",
       "        <tr>\n",
       "            <td>0</td>\n",
       "            <td>40-49</td>\n",
       "            <td>1</td>\n",
       "            <td>Muito Pequeno</td>\n",
       "            <td>0-2</td>\n",
       "            <td>0</td>\n",
       "            <td>2</td>\n",
       "            <td>D</td>\n",
       "            <td>4</td>\n",
       "            <td>0</td>\n",
       "        </tr>\n",
       "    </tbody>\n",
       "</table>"
      ],
      "text/plain": [
       "[(0, '30-39', 1, 'Grande', '0-2', 0, 3, 'E', 1, 0),\n",
       " (0, '40-49', 1, 'Medio', '0-2', 0, 2, 'D', 2, 0),\n",
       " (0, '40-49', 1, 'Medio', '0-2', 0, 2, 'E', 1, 0),\n",
       " (0, '60-69', 2, 'Pequeno', '0-2', 0, 2, 'D', 3, 0),\n",
       " (0, '40-49', 1, 'Muito Pequeno', '0-2', 0, 2, 'D', 4, 0)]"
      ]
     },
     "execution_count": 24,
     "metadata": {},
     "output_type": "execute_result"
    }
   ],
   "source": [
    "%%sql\n",
    "SELECT * FROM dados2\n",
    "LIMIT 5"
   ]
  },
  {
   "cell_type": "markdown",
   "metadata": {},
   "source": [
    "## Exportando os dados para CSV"
   ]
  },
  {
   "cell_type": "code",
   "execution_count": 25,
   "metadata": {},
   "outputs": [
    {
     "name": "stdout",
     "output_type": "stream",
     "text": [
      " * sqlite:///database/dbproejto1_cancer_de_mama.db\n",
      "Done.\n"
     ]
    }
   ],
   "source": [
    "resultado = %sql SELECT * FROM dados2\n",
    "resultado.DataFrame().to_csv('dados/dados_cancer_mama_tratados.csv', index=False)\n"
   ]
  },
  {
   "cell_type": "code",
   "execution_count": null,
   "metadata": {},
   "outputs": [],
   "source": []
  }
 ],
 "metadata": {
  "kernelspec": {
   "display_name": "Python 3 (ipykernel)",
   "language": "python",
   "name": "python3"
  },
  "language_info": {
   "codemirror_mode": {
    "name": "ipython",
    "version": 3
   },
   "file_extension": ".py",
   "mimetype": "text/x-python",
   "name": "python",
   "nbconvert_exporter": "python",
   "pygments_lexer": "ipython3",
   "version": "3.11.5"
  }
 },
 "nbformat": 4,
 "nbformat_minor": 2
}
